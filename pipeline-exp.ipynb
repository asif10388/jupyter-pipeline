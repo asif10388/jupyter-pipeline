{
 "cells": [
  {
   "cell_type": "code",
   "execution_count": 14,
   "metadata": {},
   "outputs": [
    {
     "name": "stdout",
     "output_type": "stream",
     "text": [
      "    id         name  class  mark  gender\n",
      "0    1     John Deo   Four    75  female\n",
      "1    2     Max Ruin  Three    85    male\n",
      "2    3       Arnold  Three    55    male\n",
      "3    4   Krish Star   Four    60  female\n",
      "4    5    John Mike   Four    60  female\n",
      "5    6    Alex John   Four    55    male\n",
      "6    7  My John Rob  Fifth    78    male\n",
      "7    8       Asruid   Five    85    male\n",
      "8    9      Tes Qry    Six    78    male\n",
      "9   10     Big John   Four    55  female\n",
      "10  11     Big John   Four    98  female\n",
      "11  12     Big John   Four   100  female\n",
      " Average: 73.66666666666667\n"
     ]
    }
   ],
   "source": [
    "import pandas as pd\n",
    "\n",
    "df= pd.read_csv('student.csv')\n",
    "\n",
    "average = df['mark'].mean()\n",
    "\n",
    "print(df)\n",
    "\n",
    "print(f' Average: {average}')\n"
   ]
  }
 ],
 "metadata": {
  "kernelspec": {
   "display_name": "Python 3",
   "language": "python",
   "name": "python3"
  },
  "language_info": {
   "codemirror_mode": {
    "name": "ipython",
    "version": 3
   },
   "file_extension": ".py",
   "mimetype": "text/x-python",
   "name": "python",
   "nbconvert_exporter": "python",
   "pygments_lexer": "ipython3",
   "version": "3.8.10"
  },
  "orig_nbformat": 4,
  "vscode": {
   "interpreter": {
    "hash": "916dbcbb3f70747c44a77c7bcd40155683ae19c65e1c03b4aa3499c5328201f1"
   }
  }
 },
 "nbformat": 4,
 "nbformat_minor": 2
}
